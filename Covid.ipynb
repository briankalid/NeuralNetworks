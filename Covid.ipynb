{
 "cells": [
  {
   "cell_type": "code",
   "execution_count": 1,
   "metadata": {},
   "outputs": [],
   "source": [
    "import fastai.tabular.all as ft\n",
    "import pandas as pd\n",
    "import fastai.vision.all as fv\n",
    "import torch\n",
    "import torch.nn as nn\n",
    "import torch.nn.functional as F\n",
    "import numpy as np"
   ]
  },
  {
   "cell_type": "code",
   "execution_count": 2,
   "metadata": {},
   "outputs": [
    {
     "name": "stdout",
     "output_type": "stream",
     "text": [
      "diabetes.csv  latestdata.csv\n",
      "Requirement already satisfied: seaborn in /opt/conda/envs/fastai/lib/python3.8/site-packages (0.11.1)\n",
      "Requirement already satisfied: matplotlib>=2.2 in /opt/conda/envs/fastai/lib/python3.8/site-packages (from seaborn) (3.3.1)\n",
      "Requirement already satisfied: numpy>=1.15 in /opt/conda/envs/fastai/lib/python3.8/site-packages (from seaborn) (1.19.1)\n",
      "Requirement already satisfied: scipy>=1.0 in /opt/conda/envs/fastai/lib/python3.8/site-packages (from seaborn) (1.5.2)\n",
      "Requirement already satisfied: pandas>=0.23 in /opt/conda/envs/fastai/lib/python3.8/site-packages (from seaborn) (1.1.0)\n",
      "Requirement already satisfied: pyparsing!=2.0.4,!=2.1.2,!=2.1.6,>=2.0.3 in /opt/conda/envs/fastai/lib/python3.8/site-packages (from matplotlib>=2.2->seaborn) (2.4.7)\n",
      "Requirement already satisfied: kiwisolver>=1.0.1 in /opt/conda/envs/fastai/lib/python3.8/site-packages (from matplotlib>=2.2->seaborn) (1.2.0)\n",
      "Requirement already satisfied: pillow>=6.2.0 in /opt/conda/envs/fastai/lib/python3.8/site-packages (from matplotlib>=2.2->seaborn) (7.2.0)\n",
      "Requirement already satisfied: cycler>=0.10 in /opt/conda/envs/fastai/lib/python3.8/site-packages (from matplotlib>=2.2->seaborn) (0.10.0)\n",
      "Requirement already satisfied: python-dateutil>=2.1 in /opt/conda/envs/fastai/lib/python3.8/site-packages (from matplotlib>=2.2->seaborn) (2.8.1)\n",
      "Requirement already satisfied: certifi>=2020.06.20 in /opt/conda/envs/fastai/lib/python3.8/site-packages (from matplotlib>=2.2->seaborn) (2020.6.20)\n",
      "Requirement already satisfied: pytz>=2017.2 in /opt/conda/envs/fastai/lib/python3.8/site-packages (from pandas>=0.23->seaborn) (2020.1)\n",
      "Requirement already satisfied: six in /opt/conda/envs/fastai/lib/python3.8/site-packages (from cycler>=0.10->matplotlib>=2.2->seaborn) (1.15.0)\n"
     ]
    }
   ],
   "source": [
    "!ls storage/prediccion\\ covid/\n",
    "!pip install seaborn"
   ]
  },
  {
   "cell_type": "code",
   "execution_count": 3,
   "metadata": {
    "scrolled": true
   },
   "outputs": [
    {
     "data": {
      "text/html": [
       "<div>\n",
       "<style scoped>\n",
       "    .dataframe tbody tr th:only-of-type {\n",
       "        vertical-align: middle;\n",
       "    }\n",
       "\n",
       "    .dataframe tbody tr th {\n",
       "        vertical-align: top;\n",
       "    }\n",
       "\n",
       "    .dataframe thead th {\n",
       "        text-align: right;\n",
       "    }\n",
       "</style>\n",
       "<table border=\"1\" class=\"dataframe\">\n",
       "  <thead>\n",
       "    <tr style=\"text-align: right;\">\n",
       "      <th></th>\n",
       "      <th>age</th>\n",
       "      <th>sex</th>\n",
       "      <th>city</th>\n",
       "      <th>province</th>\n",
       "      <th>country</th>\n",
       "      <th>latitude</th>\n",
       "      <th>longitude</th>\n",
       "      <th>geo_resolution</th>\n",
       "      <th>symptoms</th>\n",
       "      <th>lives_in_Wuhan</th>\n",
       "      <th>...</th>\n",
       "      <th>outcome</th>\n",
       "      <th>date_death_or_discharge</th>\n",
       "      <th>location</th>\n",
       "      <th>admin3</th>\n",
       "      <th>admin2</th>\n",
       "      <th>admin1</th>\n",
       "      <th>country_new</th>\n",
       "      <th>admin_id</th>\n",
       "      <th>data_moderator_initials</th>\n",
       "      <th>travel_history_binary</th>\n",
       "    </tr>\n",
       "  </thead>\n",
       "  <tbody>\n",
       "    <tr>\n",
       "      <th>0</th>\n",
       "      <td>NaN</td>\n",
       "      <td>male</td>\n",
       "      <td>Shek Lei</td>\n",
       "      <td>Hong Kong</td>\n",
       "      <td>China</td>\n",
       "      <td>22.365019</td>\n",
       "      <td>114.133808</td>\n",
       "      <td>point</td>\n",
       "      <td>NaN</td>\n",
       "      <td>NaN</td>\n",
       "      <td>...</td>\n",
       "      <td>critical condition, intubated as of 14.02.2020</td>\n",
       "      <td>NaT</td>\n",
       "      <td>Shek Lei</td>\n",
       "      <td>NaN</td>\n",
       "      <td>NaN</td>\n",
       "      <td>Hong Kong</td>\n",
       "      <td>China</td>\n",
       "      <td>8029.0</td>\n",
       "      <td>NaN</td>\n",
       "      <td>NaN</td>\n",
       "    </tr>\n",
       "    <tr>\n",
       "      <th>1</th>\n",
       "      <td>78</td>\n",
       "      <td>male</td>\n",
       "      <td>Vo Euganeo</td>\n",
       "      <td>Veneto</td>\n",
       "      <td>Italy</td>\n",
       "      <td>45.297748</td>\n",
       "      <td>11.658382</td>\n",
       "      <td>point</td>\n",
       "      <td>NaN</td>\n",
       "      <td>NaN</td>\n",
       "      <td>...</td>\n",
       "      <td>death</td>\n",
       "      <td>2020-02-22</td>\n",
       "      <td>Vo' Euganeo</td>\n",
       "      <td>NaN</td>\n",
       "      <td>NaN</td>\n",
       "      <td>Veneto</td>\n",
       "      <td>Italy</td>\n",
       "      <td>8954.0</td>\n",
       "      <td>NaN</td>\n",
       "      <td>NaN</td>\n",
       "    </tr>\n",
       "    <tr>\n",
       "      <th>2</th>\n",
       "      <td>61</td>\n",
       "      <td>female</td>\n",
       "      <td>NaN</td>\n",
       "      <td>NaN</td>\n",
       "      <td>Singapore</td>\n",
       "      <td>1.353460</td>\n",
       "      <td>103.815100</td>\n",
       "      <td>admin0</td>\n",
       "      <td>NaN</td>\n",
       "      <td>NaN</td>\n",
       "      <td>...</td>\n",
       "      <td>discharge</td>\n",
       "      <td>2020-02-17</td>\n",
       "      <td>NaN</td>\n",
       "      <td>NaN</td>\n",
       "      <td>NaN</td>\n",
       "      <td>NaN</td>\n",
       "      <td>Singapore</td>\n",
       "      <td>200.0</td>\n",
       "      <td>NaN</td>\n",
       "      <td>NaN</td>\n",
       "    </tr>\n",
       "    <tr>\n",
       "      <th>3</th>\n",
       "      <td>NaN</td>\n",
       "      <td>NaN</td>\n",
       "      <td>Zhengzhou City</td>\n",
       "      <td>Henan</td>\n",
       "      <td>China</td>\n",
       "      <td>34.629310</td>\n",
       "      <td>113.468000</td>\n",
       "      <td>admin2</td>\n",
       "      <td>NaN</td>\n",
       "      <td>NaN</td>\n",
       "      <td>...</td>\n",
       "      <td>NaN</td>\n",
       "      <td>NaT</td>\n",
       "      <td>NaN</td>\n",
       "      <td>NaN</td>\n",
       "      <td>Zhengzhou City</td>\n",
       "      <td>Henan</td>\n",
       "      <td>China</td>\n",
       "      <td>10091.0</td>\n",
       "      <td>NaN</td>\n",
       "      <td>NaN</td>\n",
       "    </tr>\n",
       "    <tr>\n",
       "      <th>4</th>\n",
       "      <td>NaN</td>\n",
       "      <td>NaN</td>\n",
       "      <td>Pingxiang City</td>\n",
       "      <td>Jiangxi</td>\n",
       "      <td>China</td>\n",
       "      <td>27.513560</td>\n",
       "      <td>113.902900</td>\n",
       "      <td>admin2</td>\n",
       "      <td>NaN</td>\n",
       "      <td>NaN</td>\n",
       "      <td>...</td>\n",
       "      <td>NaN</td>\n",
       "      <td>NaT</td>\n",
       "      <td>NaN</td>\n",
       "      <td>NaN</td>\n",
       "      <td>Pingxiang City</td>\n",
       "      <td>Jiangxi</td>\n",
       "      <td>China</td>\n",
       "      <td>7060.0</td>\n",
       "      <td>NaN</td>\n",
       "      <td>NaN</td>\n",
       "    </tr>\n",
       "    <tr>\n",
       "      <th>...</th>\n",
       "      <td>...</td>\n",
       "      <td>...</td>\n",
       "      <td>...</td>\n",
       "      <td>...</td>\n",
       "      <td>...</td>\n",
       "      <td>...</td>\n",
       "      <td>...</td>\n",
       "      <td>...</td>\n",
       "      <td>...</td>\n",
       "      <td>...</td>\n",
       "      <td>...</td>\n",
       "      <td>...</td>\n",
       "      <td>...</td>\n",
       "      <td>...</td>\n",
       "      <td>...</td>\n",
       "      <td>...</td>\n",
       "      <td>...</td>\n",
       "      <td>...</td>\n",
       "      <td>...</td>\n",
       "      <td>...</td>\n",
       "      <td>...</td>\n",
       "    </tr>\n",
       "    <tr>\n",
       "      <th>2676306</th>\n",
       "      <td>52</td>\n",
       "      <td>female</td>\n",
       "      <td>Calleria</td>\n",
       "      <td>Coronel Portillo</td>\n",
       "      <td>Peru</td>\n",
       "      <td>-8.378190</td>\n",
       "      <td>-74.539700</td>\n",
       "      <td>point</td>\n",
       "      <td>NaN</td>\n",
       "      <td>NaN</td>\n",
       "      <td>...</td>\n",
       "      <td>NaN</td>\n",
       "      <td>NaT</td>\n",
       "      <td>NaN</td>\n",
       "      <td>NaN</td>\n",
       "      <td>NaN</td>\n",
       "      <td>NaN</td>\n",
       "      <td>Peru</td>\n",
       "      <td>14429.0</td>\n",
       "      <td>NaN</td>\n",
       "      <td>False</td>\n",
       "    </tr>\n",
       "    <tr>\n",
       "      <th>2676307</th>\n",
       "      <td>52</td>\n",
       "      <td>female</td>\n",
       "      <td>Pueblo Libre</td>\n",
       "      <td>Lima</td>\n",
       "      <td>Peru</td>\n",
       "      <td>-12.076530</td>\n",
       "      <td>-77.067350</td>\n",
       "      <td>point</td>\n",
       "      <td>NaN</td>\n",
       "      <td>NaN</td>\n",
       "      <td>...</td>\n",
       "      <td>NaN</td>\n",
       "      <td>NaT</td>\n",
       "      <td>NaN</td>\n",
       "      <td>NaN</td>\n",
       "      <td>NaN</td>\n",
       "      <td>NaN</td>\n",
       "      <td>Peru</td>\n",
       "      <td>14695.0</td>\n",
       "      <td>NaN</td>\n",
       "      <td>False</td>\n",
       "    </tr>\n",
       "    <tr>\n",
       "      <th>2676308</th>\n",
       "      <td>52</td>\n",
       "      <td>female</td>\n",
       "      <td>Comas</td>\n",
       "      <td>Lima</td>\n",
       "      <td>Peru</td>\n",
       "      <td>-11.932980</td>\n",
       "      <td>-77.040850</td>\n",
       "      <td>point</td>\n",
       "      <td>NaN</td>\n",
       "      <td>NaN</td>\n",
       "      <td>...</td>\n",
       "      <td>NaN</td>\n",
       "      <td>NaT</td>\n",
       "      <td>NaN</td>\n",
       "      <td>NaN</td>\n",
       "      <td>NaN</td>\n",
       "      <td>NaN</td>\n",
       "      <td>Peru</td>\n",
       "      <td>14400.0</td>\n",
       "      <td>NaN</td>\n",
       "      <td>False</td>\n",
       "    </tr>\n",
       "    <tr>\n",
       "      <th>2676309</th>\n",
       "      <td>52</td>\n",
       "      <td>male</td>\n",
       "      <td>Callao</td>\n",
       "      <td>Callao</td>\n",
       "      <td>Peru</td>\n",
       "      <td>-12.000740</td>\n",
       "      <td>-77.118240</td>\n",
       "      <td>point</td>\n",
       "      <td>NaN</td>\n",
       "      <td>NaN</td>\n",
       "      <td>...</td>\n",
       "      <td>NaN</td>\n",
       "      <td>NaT</td>\n",
       "      <td>NaN</td>\n",
       "      <td>NaN</td>\n",
       "      <td>NaN</td>\n",
       "      <td>NaN</td>\n",
       "      <td>Peru</td>\n",
       "      <td>14516.0</td>\n",
       "      <td>NaN</td>\n",
       "      <td>False</td>\n",
       "    </tr>\n",
       "    <tr>\n",
       "      <th>2676310</th>\n",
       "      <td>52</td>\n",
       "      <td>male</td>\n",
       "      <td>Los Olivos</td>\n",
       "      <td>Lima</td>\n",
       "      <td>Peru</td>\n",
       "      <td>-11.976260</td>\n",
       "      <td>-77.075030</td>\n",
       "      <td>point</td>\n",
       "      <td>NaN</td>\n",
       "      <td>NaN</td>\n",
       "      <td>...</td>\n",
       "      <td>NaN</td>\n",
       "      <td>NaT</td>\n",
       "      <td>NaN</td>\n",
       "      <td>NaN</td>\n",
       "      <td>NaN</td>\n",
       "      <td>NaN</td>\n",
       "      <td>Peru</td>\n",
       "      <td>14502.0</td>\n",
       "      <td>NaN</td>\n",
       "      <td>False</td>\n",
       "    </tr>\n",
       "  </tbody>\n",
       "</table>\n",
       "<p>2676311 rows × 25 columns</p>\n",
       "</div>"
      ],
      "text/plain": [
       "         age     sex            city          province    country   latitude  \\\n",
       "0        NaN    male        Shek Lei         Hong Kong      China  22.365019   \n",
       "1         78    male      Vo Euganeo            Veneto      Italy  45.297748   \n",
       "2         61  female             NaN               NaN  Singapore   1.353460   \n",
       "3        NaN     NaN  Zhengzhou City             Henan      China  34.629310   \n",
       "4        NaN     NaN  Pingxiang City           Jiangxi      China  27.513560   \n",
       "...      ...     ...             ...               ...        ...        ...   \n",
       "2676306   52  female        Calleria  Coronel Portillo       Peru  -8.378190   \n",
       "2676307   52  female    Pueblo Libre              Lima       Peru -12.076530   \n",
       "2676308   52  female           Comas              Lima       Peru -11.932980   \n",
       "2676309   52    male          Callao            Callao       Peru -12.000740   \n",
       "2676310   52    male      Los Olivos              Lima       Peru -11.976260   \n",
       "\n",
       "          longitude geo_resolution symptoms lives_in_Wuhan  ...  \\\n",
       "0        114.133808          point      NaN            NaN  ...   \n",
       "1         11.658382          point      NaN            NaN  ...   \n",
       "2        103.815100         admin0      NaN            NaN  ...   \n",
       "3        113.468000         admin2      NaN            NaN  ...   \n",
       "4        113.902900         admin2      NaN            NaN  ...   \n",
       "...             ...            ...      ...            ...  ...   \n",
       "2676306  -74.539700          point      NaN            NaN  ...   \n",
       "2676307  -77.067350          point      NaN            NaN  ...   \n",
       "2676308  -77.040850          point      NaN            NaN  ...   \n",
       "2676309  -77.118240          point      NaN            NaN  ...   \n",
       "2676310  -77.075030          point      NaN            NaN  ...   \n",
       "\n",
       "                                                outcome  \\\n",
       "0        critical condition, intubated as of 14.02.2020   \n",
       "1                                                 death   \n",
       "2                                             discharge   \n",
       "3                                                   NaN   \n",
       "4                                                   NaN   \n",
       "...                                                 ...   \n",
       "2676306                                             NaN   \n",
       "2676307                                             NaN   \n",
       "2676308                                             NaN   \n",
       "2676309                                             NaN   \n",
       "2676310                                             NaN   \n",
       "\n",
       "        date_death_or_discharge     location admin3          admin2  \\\n",
       "0                           NaT     Shek Lei    NaN             NaN   \n",
       "1                    2020-02-22  Vo' Euganeo    NaN             NaN   \n",
       "2                    2020-02-17          NaN    NaN             NaN   \n",
       "3                           NaT          NaN    NaN  Zhengzhou City   \n",
       "4                           NaT          NaN    NaN  Pingxiang City   \n",
       "...                         ...          ...    ...             ...   \n",
       "2676306                     NaT          NaN    NaN             NaN   \n",
       "2676307                     NaT          NaN    NaN             NaN   \n",
       "2676308                     NaT          NaN    NaN             NaN   \n",
       "2676309                     NaT          NaN    NaN             NaN   \n",
       "2676310                     NaT          NaN    NaN             NaN   \n",
       "\n",
       "            admin1 country_new admin_id data_moderator_initials  \\\n",
       "0        Hong Kong       China   8029.0                     NaN   \n",
       "1           Veneto       Italy   8954.0                     NaN   \n",
       "2              NaN   Singapore    200.0                     NaN   \n",
       "3            Henan       China  10091.0                     NaN   \n",
       "4          Jiangxi       China   7060.0                     NaN   \n",
       "...            ...         ...      ...                     ...   \n",
       "2676306        NaN        Peru  14429.0                     NaN   \n",
       "2676307        NaN        Peru  14695.0                     NaN   \n",
       "2676308        NaN        Peru  14400.0                     NaN   \n",
       "2676309        NaN        Peru  14516.0                     NaN   \n",
       "2676310        NaN        Peru  14502.0                     NaN   \n",
       "\n",
       "        travel_history_binary  \n",
       "0                         NaN  \n",
       "1                         NaN  \n",
       "2                         NaN  \n",
       "3                         NaN  \n",
       "4                         NaN  \n",
       "...                       ...  \n",
       "2676306                 False  \n",
       "2676307                 False  \n",
       "2676308                 False  \n",
       "2676309                 False  \n",
       "2676310                 False  \n",
       "\n",
       "[2676311 rows x 25 columns]"
      ]
     },
     "execution_count": 3,
     "metadata": {},
     "output_type": "execute_result"
    }
   ],
   "source": [
    "df=pd.read_csv('storage/prediccion covid/latestdata.csv',low_memory=False,parse_dates=['date_death_or_discharge'])\n",
    "df.drop(['ID','date_onset_symptoms','date_admission_hospital','date_confirmation','travel_history_dates','notes_for_discussion','additional_information','source'],axis=1,inplace=True)\n",
    "df"
   ]
  },
  {
   "cell_type": "code",
   "execution_count": 4,
   "metadata": {
    "scrolled": true
   },
   "outputs": [
    {
     "data": {
      "text/plain": [
       "array(['critical condition, intubated as of 14.02.2020', 'death',\n",
       "       'discharge', nan, 'discharged', 'Discharged',\n",
       "       'Discharged from hospital', 'not hospitalized', 'recovered',\n",
       "       'recovering at home 03.03.2020', 'released from quarantine',\n",
       "       'severe', 'stable', 'died', 'Death', 'dead',\n",
       "       'Symptoms only improved with cough. Currently hospitalized for follow-up.',\n",
       "       'treated in an intensive care unit (14.02.2020)', 'Alive', 'Dead',\n",
       "       'Recovered', 'Stable', 'Died', 'Deceased', 'stable condition',\n",
       "       'Under treatment', 'Critical condition', 'Receiving Treatment',\n",
       "       'severe illness', 'unstable', 'critical condition', 'Hospitalized',\n",
       "       'Migrated', 'Migrated_Other',\n",
       "       'https://www.mspbs.gov.py/covid-19.php'], dtype=object)"
      ]
     },
     "execution_count": 4,
     "metadata": {},
     "output_type": "execute_result"
    }
   ],
   "source": [
    "df['outcome'].unique()"
   ]
  },
  {
   "cell_type": "code",
   "execution_count": 5,
   "metadata": {},
   "outputs": [],
   "source": [
    "df.loc[df.outcome=='critical condition, intubated as of 14.02.2020','outcome']='critical'\n",
    "df.loc[df.outcome=='death','outcome']='dead'\n",
    "df.loc[df.outcome=='discharge','outcome']='discharged'\n",
    "df.loc[df.outcome=='discharged','outcome']='discharged'\n",
    "df.loc[df.outcome=='Discharged','outcome']='discharged'\n",
    "df.loc[df.outcome=='Discharged from hospital','outcome']='discharged'\n",
    "df.loc[df.outcome=='not hospitalized','outcome']='not hospitalized'\n",
    "df.loc[df.outcome=='recovered','outcome']='recovered'\n",
    "df.loc[df.outcome=='recovering at home 03.03.2020','outcome']='recovered'\n",
    "df.loc[df.outcome=='released from quarantine','outcome']='recovered'\n",
    "df.loc[df.outcome=='severe','outcome']='critical'\n",
    "df.loc[df.outcome=='stable condition','outcome']='stable'\n",
    "df.loc[df.outcome=='died','outcome']='dead'\n",
    "df.loc[df.outcome=='Death','outcome']='dead'\n",
    "df.loc[df.outcome=='Symptoms only improved with cough. Currently hospitalized for follow-up.','outcome']='hospitalized'\n",
    "df.loc[df.outcome=='treated in an intensive care unit (14.02.2020)','outcome']='critical'\n",
    "df.loc[df.outcome=='Alive','outcome']='recovered'\n",
    "df.loc[df.outcome=='Dead','outcome']='dead'\n",
    "df.loc[df.outcome=='Recovered','outcome']='recovered'\n",
    "df.loc[df.outcome=='Stable','outcome']='stable'\n",
    "df.loc[df.outcome=='Died','outcome']='dead'\n",
    "df.loc[df.outcome=='Deceased','outcome']='dead'\n",
    "df.loc[df.outcome=='Under treatment','outcome']='stable'\n",
    "df.loc[df.outcome=='Critical condition','outcome']='critical'\n",
    "df.loc[df.outcome=='Receiving Treatment','outcome']='recovered'\n",
    "df.loc[df.outcome=='severe illness','outcome']='critical'\n",
    "df.loc[df.outcome=='unstable','outcome']='critical'\n",
    "df.loc[df.outcome=='critical condition','outcome']='critical'\n",
    "df.loc[df.outcome=='Hospitalized','outcome']='hospitalized'\n",
    "df.loc[df.outcome=='Migrated','outcome']='hospitalized'\n",
    "df.loc[df.outcome=='Migrated_Other','outcome']='hospitalized'\n",
    "df.loc[df.outcome=='https://www.mspbs.gov.py/covid-19.php','outcome']=np.nan\n"
   ]
  },
  {
   "cell_type": "code",
   "execution_count": 6,
   "metadata": {},
   "outputs": [],
   "source": [
    "df = df.dropna(subset=[\"outcome\"])"
   ]
  },
  {
   "cell_type": "code",
   "execution_count": 7,
   "metadata": {},
   "outputs": [
    {
     "data": {
      "text/plain": [
       "array(['critical', 'dead', 'discharged', 'not hospitalized', 'recovered',\n",
       "       'stable', 'hospitalized'], dtype=object)"
      ]
     },
     "execution_count": 7,
     "metadata": {},
     "output_type": "execute_result"
    }
   ],
   "source": [
    "df['outcome'].unique()"
   ]
  },
  {
   "cell_type": "code",
   "execution_count": 8,
   "metadata": {},
   "outputs": [],
   "source": [
    "cat_names=['age','sex', 'city', 'province', 'country', 'date_death_or_discharge','lives_in_Wuhan',\n",
    "       'geo_resolution', 'symptoms', 'travel_history_location',\n",
    "       'reported_market_exposure', 'chronic_disease_binary', 'chronic_disease',\n",
    "       'sequence_available', 'location', 'admin3', 'admin2',\n",
    "       'admin1', 'country_new', 'admin_id', 'data_moderator_initials',\n",
    "       'travel_history_binary']\n",
    "\n",
    "cont_names=['latitude', 'longitude']\n",
    "\n",
    "y_names=['outcome']"
   ]
  },
  {
   "cell_type": "code",
   "execution_count": 9,
   "metadata": {},
   "outputs": [
    {
     "data": {
      "text/plain": [
       "307256"
      ]
     },
     "execution_count": 9,
     "metadata": {},
     "output_type": "execute_result"
    }
   ],
   "source": [
    "len(df)"
   ]
  },
  {
   "cell_type": "code",
   "execution_count": 10,
   "metadata": {},
   "outputs": [],
   "source": [
    "X=list(range(len(df)))"
   ]
  },
  {
   "cell_type": "code",
   "execution_count": 11,
   "metadata": {},
   "outputs": [],
   "source": [
    "valid_cut=len(df)-57382"
   ]
  },
  {
   "cell_type": "code",
   "execution_count": 12,
   "metadata": {},
   "outputs": [],
   "source": [
    "src=ft.TabularPandas(df,\n",
    "                    procs=[ft.Categorify,ft.FillMissing],\n",
    "                    cat_names=cat_names, cont_names=cont_names,y_names=y_names,y_block = ft.CategoryBlock,\n",
    "                    splits=(X[:valid_cut],X[valid_cut:]))"
   ]
  },
  {
   "cell_type": "code",
   "execution_count": 13,
   "metadata": {},
   "outputs": [],
   "source": [
    "dls=src.dataloaders(bs=50000)"
   ]
  },
  {
   "cell_type": "code",
   "execution_count": 14,
   "metadata": {},
   "outputs": [],
   "source": [
    "batch=dls.one_batch()\n",
    "cat,cot,y=batch"
   ]
  },
  {
   "cell_type": "code",
   "execution_count": 15,
   "metadata": {},
   "outputs": [
    {
     "data": {
      "text/plain": [
       "torch.Size([50000, 1])"
      ]
     },
     "execution_count": 15,
     "metadata": {},
     "output_type": "execute_result"
    }
   ],
   "source": [
    "y.shape"
   ]
  },
  {
   "cell_type": "code",
   "execution_count": 16,
   "metadata": {},
   "outputs": [],
   "source": [
    "learn=ft.tabular_learner(dls,opt_func=ft.ranger,metrics=ft.accuracy)"
   ]
  },
  {
   "cell_type": "code",
   "execution_count": 17,
   "metadata": {},
   "outputs": [
    {
     "data": {
      "text/plain": [
       "TabularModel(\n",
       "  (embeds): ModuleList(\n",
       "    (0): Embedding(132, 25)\n",
       "    (1): Embedding(3, 3)\n",
       "    (2): Embedding(2351, 124)\n",
       "    (3): Embedding(214, 32)\n",
       "    (4): Embedding(52, 15)\n",
       "    (5): Embedding(116, 23)\n",
       "    (6): Embedding(3, 3)\n",
       "    (7): Embedding(6, 4)\n",
       "    (8): Embedding(116, 23)\n",
       "    (9): Embedding(150, 26)\n",
       "    (10): Embedding(4, 3)\n",
       "    (11): Embedding(3, 3)\n",
       "    (12): Embedding(67, 17)\n",
       "    (13): Embedding(4, 3)\n",
       "    (14): Embedding(66, 17)\n",
       "    (15): Embedding(12, 6)\n",
       "    (16): Embedding(68, 17)\n",
       "    (17): Embedding(98, 21)\n",
       "    (18): Embedding(49, 14)\n",
       "    (19): Embedding(1379, 92)\n",
       "    (20): Embedding(4, 3)\n",
       "    (21): Embedding(3, 3)\n",
       "  )\n",
       "  (emb_drop): Dropout(p=0.0, inplace=False)\n",
       "  (bn_cont): BatchNorm1d(2, eps=1e-05, momentum=0.1, affine=True, track_running_stats=True)\n",
       "  (layers): Sequential(\n",
       "    (0): LinBnDrop(\n",
       "      (0): BatchNorm1d(479, eps=1e-05, momentum=0.1, affine=True, track_running_stats=True)\n",
       "      (1): Linear(in_features=479, out_features=200, bias=False)\n",
       "      (2): ReLU(inplace=True)\n",
       "    )\n",
       "    (1): LinBnDrop(\n",
       "      (0): BatchNorm1d(200, eps=1e-05, momentum=0.1, affine=True, track_running_stats=True)\n",
       "      (1): Linear(in_features=200, out_features=100, bias=False)\n",
       "      (2): ReLU(inplace=True)\n",
       "    )\n",
       "    (2): LinBnDrop(\n",
       "      (0): Linear(in_features=100, out_features=7, bias=True)\n",
       "    )\n",
       "  )\n",
       ")"
      ]
     },
     "execution_count": 17,
     "metadata": {},
     "output_type": "execute_result"
    }
   ],
   "source": [
    "learn.model"
   ]
  },
  {
   "cell_type": "code",
   "execution_count": 18,
   "metadata": {
    "scrolled": true
   },
   "outputs": [
    {
     "data": {
      "text/html": [],
      "text/plain": [
       "<IPython.core.display.HTML object>"
      ]
     },
     "metadata": {},
     "output_type": "display_data"
    },
    {
     "data": {
      "text/plain": [
       "SuggestedLRs(lr_min=0.09120108485221863, lr_steep=0.010964781977236271)"
      ]
     },
     "execution_count": 18,
     "metadata": {},
     "output_type": "execute_result"
    },
    {
     "data": {
      "image/png": "[encoded data removed]",
      "text/plain": [
       "<Figure size 432x288 with 1 Axes>"
      ]
     },
     "metadata": {
      "needs_background": "light"
     },
     "output_type": "display_data"
    }
   ],
   "source": [
    "learn.lr_find()"
   ]
  },
  {
   "cell_type": "code",
   "execution_count": 19,
   "metadata": {
    "scrolled": true
   },
   "outputs": [
    {
     "data": {
      "text/html": [
       "<table border=\"1\" class=\"dataframe\">\n",
       "  <thead>\n",
       "    <tr style=\"text-align: left;\">\n",
       "      <th>epoch</th>\n",
       "      <th>train_loss</th>\n",
       "      <th>valid_loss</th>\n",
       "      <th>accuracy</th>\n",
       "      <th>time</th>\n",
       "    </tr>\n",
       "  </thead>\n",
       "  <tbody>\n",
       "    <tr>\n",
       "      <td>0</td>\n",
       "      <td>1.893966</td>\n",
       "      <td>1.841463</td>\n",
       "      <td>0.793193</td>\n",
       "      <td>00:00</td>\n",
       "    </tr>\n",
       "    <tr>\n",
       "      <td>1</td>\n",
       "      <td>1.803434</td>\n",
       "      <td>1.854109</td>\n",
       "      <td>0.793193</td>\n",
       "      <td>00:00</td>\n",
       "    </tr>\n",
       "    <tr>\n",
       "      <td>2</td>\n",
       "      <td>1.596320</td>\n",
       "      <td>1.803960</td>\n",
       "      <td>0.793193</td>\n",
       "      <td>00:00</td>\n",
       "    </tr>\n",
       "    <tr>\n",
       "      <td>3</td>\n",
       "      <td>1.394118</td>\n",
       "      <td>1.413122</td>\n",
       "      <td>0.499094</td>\n",
       "      <td>00:00</td>\n",
       "    </tr>\n",
       "    <tr>\n",
       "      <td>4</td>\n",
       "      <td>1.225734</td>\n",
       "      <td>1.141755</td>\n",
       "      <td>0.506134</td>\n",
       "      <td>00:00</td>\n",
       "    </tr>\n",
       "    <tr>\n",
       "      <td>5</td>\n",
       "      <td>1.110629</td>\n",
       "      <td>1.038763</td>\n",
       "      <td>0.493848</td>\n",
       "      <td>00:00</td>\n",
       "    </tr>\n",
       "    <tr>\n",
       "      <td>6</td>\n",
       "      <td>1.029934</td>\n",
       "      <td>0.888173</td>\n",
       "      <td>0.369907</td>\n",
       "      <td>00:00</td>\n",
       "    </tr>\n",
       "    <tr>\n",
       "      <td>7</td>\n",
       "      <td>0.970779</td>\n",
       "      <td>0.803271</td>\n",
       "      <td>0.816266</td>\n",
       "      <td>00:00</td>\n",
       "    </tr>\n",
       "    <tr>\n",
       "      <td>8</td>\n",
       "      <td>0.921326</td>\n",
       "      <td>0.796983</td>\n",
       "      <td>0.812014</td>\n",
       "      <td>00:00</td>\n",
       "    </tr>\n",
       "    <tr>\n",
       "      <td>9</td>\n",
       "      <td>0.880828</td>\n",
       "      <td>0.739733</td>\n",
       "      <td>0.814297</td>\n",
       "      <td>00:00</td>\n",
       "    </tr>\n",
       "    <tr>\n",
       "      <td>10</td>\n",
       "      <td>0.847600</td>\n",
       "      <td>0.713089</td>\n",
       "      <td>0.818828</td>\n",
       "      <td>00:00</td>\n",
       "    </tr>\n",
       "    <tr>\n",
       "      <td>11</td>\n",
       "      <td>0.820264</td>\n",
       "      <td>0.691520</td>\n",
       "      <td>0.820954</td>\n",
       "      <td>00:00</td>\n",
       "    </tr>\n",
       "    <tr>\n",
       "      <td>12</td>\n",
       "      <td>0.797159</td>\n",
       "      <td>0.639283</td>\n",
       "      <td>0.822610</td>\n",
       "      <td>00:00</td>\n",
       "    </tr>\n",
       "    <tr>\n",
       "      <td>13</td>\n",
       "      <td>0.777557</td>\n",
       "      <td>0.635694</td>\n",
       "      <td>0.813356</td>\n",
       "      <td>00:00</td>\n",
       "    </tr>\n",
       "    <tr>\n",
       "      <td>14</td>\n",
       "      <td>0.761038</td>\n",
       "      <td>0.615130</td>\n",
       "      <td>0.763637</td>\n",
       "      <td>00:00</td>\n",
       "    </tr>\n",
       "    <tr>\n",
       "      <td>15</td>\n",
       "      <td>0.746579</td>\n",
       "      <td>0.580328</td>\n",
       "      <td>0.826252</td>\n",
       "      <td>00:00</td>\n",
       "    </tr>\n",
       "    <tr>\n",
       "      <td>16</td>\n",
       "      <td>0.734034</td>\n",
       "      <td>0.574128</td>\n",
       "      <td>0.752431</td>\n",
       "      <td>00:00</td>\n",
       "    </tr>\n",
       "    <tr>\n",
       "      <td>17</td>\n",
       "      <td>0.723117</td>\n",
       "      <td>0.556677</td>\n",
       "      <td>0.756195</td>\n",
       "      <td>00:00</td>\n",
       "    </tr>\n",
       "    <tr>\n",
       "      <td>18</td>\n",
       "      <td>0.713429</td>\n",
       "      <td>0.545816</td>\n",
       "      <td>0.755620</td>\n",
       "      <td>00:00</td>\n",
       "    </tr>\n",
       "    <tr>\n",
       "      <td>19</td>\n",
       "      <td>0.704904</td>\n",
       "      <td>0.538027</td>\n",
       "      <td>0.760779</td>\n",
       "      <td>00:00</td>\n",
       "    </tr>\n",
       "    <tr>\n",
       "      <td>20</td>\n",
       "      <td>0.697158</td>\n",
       "      <td>0.534438</td>\n",
       "      <td>0.763637</td>\n",
       "      <td>00:00</td>\n",
       "    </tr>\n",
       "    <tr>\n",
       "      <td>21</td>\n",
       "      <td>0.690390</td>\n",
       "      <td>0.535879</td>\n",
       "      <td>0.762417</td>\n",
       "      <td>00:00</td>\n",
       "    </tr>\n",
       "    <tr>\n",
       "      <td>22</td>\n",
       "      <td>0.684417</td>\n",
       "      <td>0.536986</td>\n",
       "      <td>0.766861</td>\n",
       "      <td>00:00</td>\n",
       "    </tr>\n",
       "    <tr>\n",
       "      <td>23</td>\n",
       "      <td>0.679112</td>\n",
       "      <td>0.542613</td>\n",
       "      <td>0.766617</td>\n",
       "      <td>00:00</td>\n",
       "    </tr>\n",
       "    <tr>\n",
       "      <td>24</td>\n",
       "      <td>0.674223</td>\n",
       "      <td>0.546063</td>\n",
       "      <td>0.765920</td>\n",
       "      <td>00:00</td>\n",
       "    </tr>\n",
       "    <tr>\n",
       "      <td>25</td>\n",
       "      <td>0.669836</td>\n",
       "      <td>0.549016</td>\n",
       "      <td>0.767244</td>\n",
       "      <td>00:00</td>\n",
       "    </tr>\n",
       "    <tr>\n",
       "      <td>26</td>\n",
       "      <td>0.665873</td>\n",
       "      <td>0.554108</td>\n",
       "      <td>0.767453</td>\n",
       "      <td>00:00</td>\n",
       "    </tr>\n",
       "    <tr>\n",
       "      <td>27</td>\n",
       "      <td>0.662288</td>\n",
       "      <td>0.558087</td>\n",
       "      <td>0.767471</td>\n",
       "      <td>00:00</td>\n",
       "    </tr>\n",
       "    <tr>\n",
       "      <td>28</td>\n",
       "      <td>0.659015</td>\n",
       "      <td>0.560505</td>\n",
       "      <td>0.768394</td>\n",
       "      <td>00:00</td>\n",
       "    </tr>\n",
       "    <tr>\n",
       "      <td>29</td>\n",
       "      <td>0.656115</td>\n",
       "      <td>0.562530</td>\n",
       "      <td>0.769091</td>\n",
       "      <td>00:00</td>\n",
       "    </tr>\n",
       "  </tbody>\n",
       "</table>"
      ],
      "text/plain": [
       "<IPython.core.display.HTML object>"
      ]
     },
     "metadata": {},
     "output_type": "display_data"
    }
   ],
   "source": [
    "learn.fit_one_cycle(30,0.07)"
   ]
  },
  {
   "cell_type": "markdown",
   "metadata": {},
   "source": [
    "# Prediccion"
   ]
  },
  {
   "cell_type": "code",
   "execution_count": 30,
   "metadata": {},
   "outputs": [
    {
     "data": {
      "text/html": [],
      "text/plain": [
       "<IPython.core.display.HTML object>"
      ]
     },
     "metadata": {},
     "output_type": "display_data"
    },
    {
     "data": {
      "text/plain": [
       "tensor([1.9162e-05, 1.6533e-02, 1.6309e-05, 7.0226e-01, 2.0295e-05, 2.8114e-01,\n",
       "        1.7285e-05])"
      ]
     },
     "execution_count": 30,
     "metadata": {},
     "output_type": "execute_result"
    }
   ],
   "source": [
    "cat, tensor, probs = learn.predict(df.iloc[17382])\n",
    "probs"
   ]
  },
  {
   "cell_type": "code",
   "execution_count": 31,
   "metadata": {},
   "outputs": [],
   "source": [
    "from sklearn.preprocessing import OneHotEncoder\n",
    "\n",
    "drop_enc = OneHotEncoder().fit(df[['outcome']])"
   ]
  },
  {
   "cell_type": "code",
   "execution_count": 32,
   "metadata": {},
   "outputs": [
    {
     "data": {
      "text/plain": [
       "array([0, 0, 0, 1, 0, 0, 0])"
      ]
     },
     "execution_count": 32,
     "metadata": {},
     "output_type": "execute_result"
    }
   ],
   "source": [
    "aux=np.array([0 for i in range(len(probs))])\n",
    "aux[list(probs).index(max(probs))]=1\n",
    "aux"
   ]
  },
  {
   "cell_type": "code",
   "execution_count": 33,
   "metadata": {},
   "outputs": [
    {
     "data": {
      "text/plain": [
       "array([['hospitalized']], dtype=object)"
      ]
     },
     "execution_count": 33,
     "metadata": {},
     "output_type": "execute_result"
    }
   ],
   "source": [
    "drop_enc.inverse_transform([aux])"
   ]
  },
  {
   "cell_type": "code",
   "execution_count": 34,
   "metadata": {},
   "outputs": [
    {
     "data": {
      "text/plain": [
       "'hospitalized'"
      ]
     },
     "execution_count": 34,
     "metadata": {},
     "output_type": "execute_result"
    }
   ],
   "source": [
    "df.iloc[17382]['outcome']"
   ]
  },
  {
   "cell_type": "code",
   "execution_count": null,
   "metadata": {},
   "outputs": [],
   "source": []
  }
 ],
 "metadata": {
  "kernelspec": {
   "display_name": "Python 3",
   "language": "python",
   "name": "python3"
  },
  "language_info": {
   "codemirror_mode": {
    "name": "ipython",
    "version": 3
   },
   "file_extension": ".py",
   "mimetype": "text/x-python",
   "name": "python",
   "nbconvert_exporter": "python",
   "pygments_lexer": "ipython3",
   "version": "3.8.5"
  }
 },
 "nbformat": 4,
 "nbformat_minor": 4
}
