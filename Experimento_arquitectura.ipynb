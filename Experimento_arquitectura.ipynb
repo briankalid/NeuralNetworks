{
 "cells": [
  {
   "cell_type": "code",
   "execution_count": 1,
   "metadata": {},
   "outputs": [],
   "source": [
    "import fastai.vision.all as fv\n",
    "import torch\n",
    "import torch.nn as nn\n",
    "import torch.nn.functional as F\n",
    "from pathlib import Path\n",
    "import random\n",
    "from pathlib import Path\n",
    "from math import prod\n",
    "from fastai.vision.all import delegates\n"
   ]
  },
  {
   "cell_type": "code",
   "execution_count": 15,
   "metadata": {},
   "outputs": [
    {
     "data": {
      "text/plain": [
       "True"
      ]
     },
     "execution_count": 15,
     "metadata": {},
     "output_type": "execute_result"
    }
   ],
   "source": [
    "torch.cuda.is_available()"
   ]
  },
  {
   "cell_type": "code",
   "execution_count": 2,
   "metadata": {},
   "outputs": [
    {
     "data": {
      "text/plain": [
       "(#18867) [Path('/notebooks/storage/exp_arq/train/dishwasher/n03207941_8443.jpg'),Path('/notebooks/storage/exp_arq/train/dishwasher/n03207941_1273.jpg'),Path('/notebooks/storage/exp_arq/train/dishwasher/n03207941_7063.jpg'),Path('/notebooks/storage/exp_arq/train/dishwasher/n03207941_16734.jpg'),Path('/notebooks/storage/exp_arq/train/dishwasher/n03207941_6728.jpg'),Path('/notebooks/storage/exp_arq/train/dishwasher/n03207941_17428.jpg'),Path('/notebooks/storage/exp_arq/train/dishwasher/n03207941_3742.jpg'),Path('/notebooks/storage/exp_arq/train/dishwasher/n03207941_3680.jpg'),Path('/notebooks/storage/exp_arq/train/dishwasher/n03207941_12600.jpg'),Path('/notebooks/storage/exp_arq/train/dishwasher/n03207941_11919.jpg')...]"
      ]
     },
     "execution_count": 2,
     "metadata": {},
     "output_type": "execute_result"
    }
   ],
   "source": [
    "dir_things=Path('/notebooks/storage/exp_arq')\n",
    "files_things=fv.get_image_files(dir_things)\n",
    "files_things"
   ]
  },
  {
   "cell_type": "code",
   "execution_count": 3,
   "metadata": {},
   "outputs": [],
   "source": [
    "class Flatten(nn.Module):\n",
    "    def __init__(self):\n",
    "        super().__init__()\n",
    "        \n",
    "    def forward(self,x):\n",
    "        return x.view(x.shape[0],-1)\n",
    "def num_params(model):\n",
    "    return sum([prod(p.shape) for p in model.parameters()])"
   ]
  },
  {
   "cell_type": "code",
   "execution_count": 4,
   "metadata": {},
   "outputs": [],
   "source": [
    "def conv2d(ni,no,k=3,s=1,pad=\"same\",g=1,bias=True):\n",
    "    \"\"\"ni, no son num de canales de entrada y salida respectivamente\"\"\"\n",
    "    if pad==\"same\": pad = (k-1)//2\n",
    "\n",
    "    return nn.Conv2d(ni,no,kernel_size=k,stride=s,padding=pad,groups=g,bias=bias)\n",
    "\n",
    "\n",
    "@delegates(conv2d)\n",
    "def cab(ni, no, act_fn=nn.ReLU(), **kwargs):\n",
    "    \"\"\"cab se refiere a convolucion->activacion->batchnorm :)\"\"\"\n",
    "    layers = []\n",
    "    \n",
    "    layers += [conv2d(ni, no, **kwargs)]\n",
    "    layers += [act_fn]\n",
    "    layers += [nn.BatchNorm2d(no)]\n",
    "    \n",
    "    return layers"
   ]
  },
  {
   "cell_type": "code",
   "execution_count": 77,
   "metadata": {},
   "outputs": [],
   "source": [
    "class ResBlock(nn.Module):\n",
    "    def __init__(self, ni, no = None, stride=1):\n",
    "        super().__init__()\n",
    "        self.stride = stride\n",
    "        if no is None: no = ni\n",
    "            \n",
    "        k = 3\n",
    "        if stride == 2:\n",
    "            k = 4\n",
    "            \n",
    "        use_pool = (ni != no) or (stride != 1)\n",
    "        \n",
    "        self.pool = nn.Sequential(*cab(ni,no,k=k,s=stride))\n",
    "        self.residual = nn.Sequential(*cab(ni,ni//2,k=k,s=stride), # juega con esto!!\n",
    "                                      *cab(ni//2,no//2), \n",
    "                                      *cab(no//2, no)\n",
    "                                     )\n",
    "        nn.init.zeros_(self.residual[-1].weight) # juega con esto!!\n",
    "        \n",
    "    def forward(self, x):\n",
    "        return self.pool(x) + self.residual(x)"
   ]
  },
  {
   "cell_type": "code",
   "execution_count": 78,
   "metadata": {},
   "outputs": [],
   "source": [
    "def load_data(path, size, bs):\n",
    "    tfms = fv.aug_transforms(size = size,\n",
    "                             flip_vert=False, \n",
    "                             max_rotate=10, \n",
    "                             max_lighting=0.3, \n",
    "                             max_zoom=1.2,\n",
    "                             max_warp=0.1)\n",
    "    \n",
    "    h,w = [int(2*t) for t in size]\n",
    "    data = fv.DataBlock(blocks    = (fv.ImageBlock, fv.CategoryBlock),\n",
    "                        get_items = fv.get_image_files,\n",
    "                        get_y     = fv.parent_label,\n",
    "                        splitter  = fv.GrandparentSplitter(),\n",
    "                        item_tfms = fv.Resize((h,w)),\n",
    "                        batch_tfms= tfms,\n",
    "                     )\n",
    "    return data.dataloaders(path, bs=bs)"
   ]
  },
  {
   "cell_type": "code",
   "execution_count": 79,
   "metadata": {},
   "outputs": [],
   "source": [
    "data = load_data(dir_things,(128,192),64)"
   ]
  },
  {
   "cell_type": "code",
   "execution_count": 80,
   "metadata": {},
   "outputs": [
    {
     "name": "stdout",
     "output_type": "stream",
     "text": [
      "Num parameters: 1.71M\n"
     ]
    }
   ],
   "source": [
    "red_neuronal = nn.Sequential(\n",
    "    nn.BatchNorm2d(3),\n",
    "    conv2d(3, 32, s=2),\n",
    "    nn.ReLU(),\n",
    "    nn.BatchNorm2d(32),\n",
    "    nn.MaxPool2d(2),\n",
    "    conv2d(32, 64),\n",
    "    nn.ReLU(),\n",
    "    nn.BatchNorm2d(64),\n",
    "    #ResBlock(64),\n",
    "    conv2d(64, 128),\n",
    "    nn.ReLU(),\n",
    "    nn.BatchNorm2d(128),\n",
    "    #ResBlock(128),\n",
    "    nn.MaxPool2d(2),\n",
    "    conv2d(128, 256),\n",
    "    nn.ReLU(),\n",
    "    nn.BatchNorm2d(256),\n",
    "    #ResBlock(256),\n",
    "    nn.MaxPool2d(2),\n",
    "    conv2d(256, 512),\n",
    "    nn.ReLU(),\n",
    "    nn.BatchNorm2d(512),\n",
    "    nn.AdaptiveAvgPool2d(1), \n",
    "    Flatten(),\n",
    "    nn.Linear(512, 256), \n",
    "    nn.LeakyReLU(),\n",
    "    nn.BatchNorm1d(256),\n",
    "    nn.Linear(256, data.c))\n",
    "\n",
    "print(f\"Num parameters: {num_params(red_neuronal)/10**6:.2f}M\")"
   ]
  },
  {
   "cell_type": "code",
   "execution_count": 81,
   "metadata": {},
   "outputs": [
    {
     "data": {
      "text/html": [],
      "text/plain": [
       "<IPython.core.display.HTML object>"
      ]
     },
     "metadata": {},
     "output_type": "display_data"
    },
    {
     "data": {
      "text/plain": [
       "SuggestedLRs(lr_min=0.00831763744354248, lr_steep=0.00013182566908653826)"
      ]
     },
     "execution_count": 81,
     "metadata": {},
     "output_type": "execute_result"
    },
    {
     "data": {
      "image/png": "[encoded data removed]",
      "text/plain": [
       "<Figure size 432x288 with 1 Axes>"
      ]
     },
     "metadata": {
      "needs_background": "light"
     },
     "output_type": "display_data"
    }
   ],
   "source": [
    "learn = fv.Learner(data,red_neuronal,opt_func=fv.ranger,metrics=fv.accuracy)\n",
    "learn.lr_find()"
   ]
  },
  {
   "cell_type": "code",
   "execution_count": 82,
   "metadata": {
    "scrolled": true
   },
   "outputs": [
    {
     "data": {
      "text/html": [
       "<table border=\"1\" class=\"dataframe\">\n",
       "  <thead>\n",
       "    <tr style=\"text-align: left;\">\n",
       "      <th>epoch</th>\n",
       "      <th>train_loss</th>\n",
       "      <th>valid_loss</th>\n",
       "      <th>accuracy</th>\n",
       "      <th>time</th>\n",
       "    </tr>\n",
       "  </thead>\n",
       "  <tbody>\n",
       "    <tr>\n",
       "      <td>0</td>\n",
       "      <td>1.783185</td>\n",
       "      <td>1.737398</td>\n",
       "      <td>0.370000</td>\n",
       "      <td>00:20</td>\n",
       "    </tr>\n",
       "    <tr>\n",
       "      <td>1</td>\n",
       "      <td>1.588498</td>\n",
       "      <td>1.620591</td>\n",
       "      <td>0.400000</td>\n",
       "      <td>00:19</td>\n",
       "    </tr>\n",
       "    <tr>\n",
       "      <td>2</td>\n",
       "      <td>1.465284</td>\n",
       "      <td>1.657068</td>\n",
       "      <td>0.411429</td>\n",
       "      <td>00:19</td>\n",
       "    </tr>\n",
       "    <tr>\n",
       "      <td>3</td>\n",
       "      <td>1.389372</td>\n",
       "      <td>1.398401</td>\n",
       "      <td>0.471429</td>\n",
       "      <td>00:19</td>\n",
       "    </tr>\n",
       "    <tr>\n",
       "      <td>4</td>\n",
       "      <td>1.308446</td>\n",
       "      <td>1.530938</td>\n",
       "      <td>0.440000</td>\n",
       "      <td>00:19</td>\n",
       "    </tr>\n",
       "    <tr>\n",
       "      <td>5</td>\n",
       "      <td>1.204345</td>\n",
       "      <td>1.260221</td>\n",
       "      <td>0.515714</td>\n",
       "      <td>00:19</td>\n",
       "    </tr>\n",
       "    <tr>\n",
       "      <td>6</td>\n",
       "      <td>1.147173</td>\n",
       "      <td>1.372871</td>\n",
       "      <td>0.477143</td>\n",
       "      <td>00:19</td>\n",
       "    </tr>\n",
       "    <tr>\n",
       "      <td>7</td>\n",
       "      <td>1.046317</td>\n",
       "      <td>1.175479</td>\n",
       "      <td>0.547143</td>\n",
       "      <td>00:19</td>\n",
       "    </tr>\n",
       "    <tr>\n",
       "      <td>8</td>\n",
       "      <td>0.934742</td>\n",
       "      <td>1.075209</td>\n",
       "      <td>0.565714</td>\n",
       "      <td>00:19</td>\n",
       "    </tr>\n",
       "    <tr>\n",
       "      <td>9</td>\n",
       "      <td>0.844339</td>\n",
       "      <td>1.067762</td>\n",
       "      <td>0.564286</td>\n",
       "      <td>00:19</td>\n",
       "    </tr>\n",
       "  </tbody>\n",
       "</table>"
      ],
      "text/plain": [
       "<IPython.core.display.HTML object>"
      ]
     },
     "metadata": {},
     "output_type": "display_data"
    }
   ],
   "source": [
    "from fastai.vision.all import *\n",
    "learn.fit_one_cycle(10,7e-3,div=1.1,div_final=10000.0,pct_start=0.7)\n",
    "#learn.fit_one_cycle(10,2e-3,div=1.1,pct_start=0.5,mom=1)"
   ]
  },
  {
   "cell_type": "code",
   "execution_count": 76,
   "metadata": {},
   "outputs": [
    {
     "data": {
      "text/plain": [
       "92493"
      ]
     },
     "execution_count": 76,
     "metadata": {},
     "output_type": "execute_result"
    }
   ],
   "source": [
    "import gc\n",
    "gc.collect()"
   ]
  },
  {
   "cell_type": "code",
   "execution_count": null,
   "metadata": {},
   "outputs": [],
   "source": []
  }
 ],
 "metadata": {
  "kernelspec": {
   "display_name": "Python 3",
   "language": "python",
   "name": "python3"
  },
  "language_info": {
   "codemirror_mode": {
    "name": "ipython",
    "version": 3
   },
   "file_extension": ".py",
   "mimetype": "text/x-python",
   "name": "python",
   "nbconvert_exporter": "python",
   "pygments_lexer": "ipython3",
   "version": "3.8.5"
  }
 },
 "nbformat": 4,
 "nbformat_minor": 4
}
